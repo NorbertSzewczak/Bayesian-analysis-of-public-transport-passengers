{
 "cells": [
  {
   "cell_type": "code",
   "id": "initial_id",
   "metadata": {
    "collapsed": true,
    "ExecuteTime": {
     "end_time": "2025-06-13T19:34:16.492585Z",
     "start_time": "2025-06-13T19:34:16.475019Z"
    }
   },
   "source": [
    "import numpy as np\n",
    "import os\n",
    "import pandas as pd\n",
    "import matplotlib.pyplot as plt"
   ],
   "outputs": [],
   "execution_count": 20
  },
  {
   "metadata": {
    "ExecuteTime": {
     "end_time": "2025-06-13T19:34:16.573643Z",
     "start_time": "2025-06-13T19:34:16.502896Z"
    }
   },
   "cell_type": "code",
   "source": [
    "raw_years = pd.read_csv('raw_data/london_weather_data_1979_to_2023.csv')\n",
    "journeys_2019 = pd.read_csv('raw_data/Journeys_2019.csv')\n",
    "journeys_2020 = pd.read_csv('raw_data/Journeys_2020.csv')\n",
    "journeys_2021 = pd.read_csv('raw_data/Journeys_2021.csv')\n",
    "journeys_2022 = pd.read_csv('raw_data/Journeys_2022.csv')"
   ],
   "id": "dfa46494421c20fd",
   "outputs": [],
   "execution_count": 21
  },
  {
   "metadata": {
    "ExecuteTime": {
     "end_time": "2025-06-13T19:34:16.659384Z",
     "start_time": "2025-06-13T19:34:16.616213Z"
    }
   },
   "cell_type": "code",
   "source": [
    "models = [journeys_2019, journeys_2020, journeys_2021, journeys_2022]\n",
    "base_path = \"data\"\n",
    "if not os.path.exists(base_path):\n",
    "    os.makedirs(base_path)\n",
    "for idx, df in enumerate(models):\n",
    "    year = 2019 + idx\n",
    "    df['data'] = pd.to_datetime(df['TravelDate'].astype(str), format='%Y%m%d')\n",
    "    df['suma'] = df['TubeJourneyCount'] + df['BusJourneyCount']\n",
    "    new_df = df[['data', 'suma']].copy()\n",
    "    new_df['data_str'] = new_df['data'].dt.strftime('%Y-%m-%d')\n",
    "    output_path = f\"{base_path}/journeys_{year}.csv\"\n",
    "    new_df[['data_str', 'suma']].rename(columns={'data_str': 'data'}).to_csv(output_path, index=False)\n",
    "    print(f\"Zapisano do {output_path}\")\n"
   ],
   "id": "112ab2313ce675cb",
   "outputs": [
    {
     "name": "stdout",
     "output_type": "stream",
     "text": [
      "Zapisano do data/journeys_2019.csv\n",
      "Zapisano do data/journeys_2020.csv\n",
      "Zapisano do data/journeys_2021.csv\n",
      "Zapisano do data/journeys_2022.csv\n"
     ]
    }
   ],
   "execution_count": 22
  },
  {
   "metadata": {
    "ExecuteTime": {
     "end_time": "2025-06-13T19:34:16.736560Z",
     "start_time": "2025-06-13T19:34:16.704253Z"
    }
   },
   "cell_type": "code",
   "source": [
    "base_path = \"data\"\n",
    "if not os.path.exists(base_path):\n",
    "    os.makedirs(base_path)\n",
    "\n",
    "for year in range(2019, 2023):\n",
    "    year_start = year * 10000\n",
    "    year_end = (year + 1) * 10000\n",
    "    selected_year = raw_years[(raw_years.iloc[:,0] >= year_start) & (raw_years.iloc[:,0] < year_end)]\n",
    "    selected_year['data'] = pd.to_datetime(selected_year.iloc[:,0].astype(str), format='%Y%m%d')\n",
    "    tx_col = 'TX' if 'TX' in selected_year.columns else selected_year.columns[1]\n",
    "    rr_col = 'RR' if 'RR' in selected_year.columns else selected_year.columns[2]\n",
    "    weather_df = selected_year[['data', tx_col, rr_col]].copy()\n",
    "    weather_df.columns = ['data', 'TX', 'RR']\n",
    "    output_path = f\"{base_path}/weather_{year}.csv\"\n",
    "    weather_df.to_csv(output_path, index=False)\n",
    "    print(f\"Zapisano dane pogodowe dla roku {year} do {output_path}\")\n"
   ],
   "id": "533d8568c918c56c",
   "outputs": [
    {
     "name": "stdout",
     "output_type": "stream",
     "text": [
      "Zapisano dane pogodowe dla roku 2019 do data/weather_2019.csv\n",
      "Zapisano dane pogodowe dla roku 2020 do data/weather_2020.csv\n",
      "Zapisano dane pogodowe dla roku 2021 do data/weather_2021.csv\n",
      "Zapisano dane pogodowe dla roku 2022 do data/weather_2022.csv\n"
     ]
    },
    {
     "name": "stderr",
     "output_type": "stream",
     "text": [
      "C:\\Users\\lenovo\\AppData\\Local\\Temp\\ipykernel_17068\\3565145429.py:9: SettingWithCopyWarning: \n",
      "A value is trying to be set on a copy of a slice from a DataFrame.\n",
      "Try using .loc[row_indexer,col_indexer] = value instead\n",
      "\n",
      "See the caveats in the documentation: https://pandas.pydata.org/pandas-docs/stable/user_guide/indexing.html#returning-a-view-versus-a-copy\n",
      "  selected_year['data'] = pd.to_datetime(selected_year.iloc[:,0].astype(str), format='%Y%m%d')\n",
      "C:\\Users\\lenovo\\AppData\\Local\\Temp\\ipykernel_17068\\3565145429.py:9: SettingWithCopyWarning: \n",
      "A value is trying to be set on a copy of a slice from a DataFrame.\n",
      "Try using .loc[row_indexer,col_indexer] = value instead\n",
      "\n",
      "See the caveats in the documentation: https://pandas.pydata.org/pandas-docs/stable/user_guide/indexing.html#returning-a-view-versus-a-copy\n",
      "  selected_year['data'] = pd.to_datetime(selected_year.iloc[:,0].astype(str), format='%Y%m%d')\n",
      "C:\\Users\\lenovo\\AppData\\Local\\Temp\\ipykernel_17068\\3565145429.py:9: SettingWithCopyWarning: \n",
      "A value is trying to be set on a copy of a slice from a DataFrame.\n",
      "Try using .loc[row_indexer,col_indexer] = value instead\n",
      "\n",
      "See the caveats in the documentation: https://pandas.pydata.org/pandas-docs/stable/user_guide/indexing.html#returning-a-view-versus-a-copy\n",
      "  selected_year['data'] = pd.to_datetime(selected_year.iloc[:,0].astype(str), format='%Y%m%d')\n",
      "C:\\Users\\lenovo\\AppData\\Local\\Temp\\ipykernel_17068\\3565145429.py:9: SettingWithCopyWarning: \n",
      "A value is trying to be set on a copy of a slice from a DataFrame.\n",
      "Try using .loc[row_indexer,col_indexer] = value instead\n",
      "\n",
      "See the caveats in the documentation: https://pandas.pydata.org/pandas-docs/stable/user_guide/indexing.html#returning-a-view-versus-a-copy\n",
      "  selected_year['data'] = pd.to_datetime(selected_year.iloc[:,0].astype(str), format='%Y%m%d')\n"
     ]
    }
   ],
   "execution_count": 23
  }
 ],
 "metadata": {
  "kernelspec": {
   "display_name": "Python 3",
   "language": "python",
   "name": "python3"
  },
  "language_info": {
   "codemirror_mode": {
    "name": "ipython",
    "version": 2
   },
   "file_extension": ".py",
   "mimetype": "text/x-python",
   "name": "python",
   "nbconvert_exporter": "python",
   "pygments_lexer": "ipython2",
   "version": "2.7.6"
  }
 },
 "nbformat": 4,
 "nbformat_minor": 5
}
